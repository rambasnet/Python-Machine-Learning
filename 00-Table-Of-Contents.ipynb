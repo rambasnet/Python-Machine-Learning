{
 "cells": [
  {
   "cell_type": "markdown",
   "metadata": {},
   "source": [
    "# Table of Contents\n",
    "\n",
    "- **1. [Introduction](./ch01/ch01.ipynb)**\n",
    "- **2. [NumPy Intro](./NumPy-Intro.ipynb)**\n",
    "- **3. [Pandas Intro](./Pandas-Intro.ipynb)**\n",
    "- **4. [Data Visualization](./Data-Visualization.ipynb)**\n",
    "- **5. [Classification with Scikit-Learn](./Classification.ipynb)**\n",
    "- **6. [Model Comparison and Selection](./ModelSelection.ipynb)**\n",
    "- **[Chapter 2](./Ch02/ch02.ipynb)**\n",
    "- **[Chapter 3](./Ch03/ch03.ipynb)**\n",
    "- **[Chapter 4](./Ch04/ch04.ipynb)**\n",
    "- **[Chapter 5](./Ch05/ch05.ipynb)**\n",
    "- **[Chapter 6](./Ch06/ch06.ipynb)**\n",
    "- **[Chapter 7](./Ch07/ch07.ipynb)**\n",
    "- **[Chapter 8](./Ch08/ch08.ipynb)**\n",
    "- **[Chapter 9](./Ch09/ch09.ipynb)**\n",
    "- **[Chapter 10](./Ch10/ch10.ipynb)**\n",
    "- **[Chapter 11](./Ch11/ch11.ipynb)**\n",
    "- **[Chapter 18](./Ch18/ch18.ipynb)**"
   ]
  },
  {
   "cell_type": "code",
   "execution_count": null,
   "metadata": {},
   "outputs": [],
   "source": []
  }
 ],
 "metadata": {
  "kernelspec": {
   "display_name": "Python 3",
   "language": "python",
   "name": "python3"
  },
  "language_info": {
   "codemirror_mode": {
    "name": "ipython",
    "version": 3
   },
   "file_extension": ".py",
   "mimetype": "text/x-python",
   "name": "python",
   "nbconvert_exporter": "python",
   "pygments_lexer": "ipython3",
   "version": "3.7.9"
  }
 },
 "nbformat": 4,
 "nbformat_minor": 4
}
