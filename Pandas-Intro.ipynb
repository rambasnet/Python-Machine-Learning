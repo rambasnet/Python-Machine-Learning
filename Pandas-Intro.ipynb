{
 "cells": [
  {
   "cell_type": "markdown",
   "metadata": {},
   "source": [
    "# Intro to Pandas\n",
    "- [https://pandas.pydata.org/](https://pandas.pydata.org/)\n",
    "- a fast, powerful, flexible and easy to use open source data analysis and manipulation tool built on Python\n",
    "\n",
    "## What kind of data does pandas handle?\n",
    "\n",
    "### pandas data table representation\n",
    "![img](images/Pandas-Table.svg)\n",
    "- to work with pandas package, must start with importing the package\n",
    "- to install/update pandas you can use either conda or pip\n",
    "\n",
    "```bash\n",
    "conda install pandas\n",
    "pip install pandas\n",
    "```"
   ]
  },
  {
   "cell_type": "code",
   "execution_count": 4,
   "metadata": {},
   "outputs": [],
   "source": [
    "import pandas as pd"
   ]
  },
  {
   "cell_type": "code",
   "execution_count": 5,
   "metadata": {},
   "outputs": [
    {
     "data": {
      "text/plain": [
       "'1.1.1'"
      ]
     },
     "execution_count": 5,
     "metadata": {},
     "output_type": "execute_result"
    }
   ],
   "source": [
    "pd.__version__"
   ]
  },
  {
   "cell_type": "markdown",
   "metadata": {},
   "source": [
    "## DataFrame\n",
    "- data table in pandas is called DataFrame\n",
    "- Python dict can be used create DataFrame where keys will be used as column headers and the list of values as columns of the DataFrame\n",
    "- each column of DataFrame is called `Series`"
   ]
  },
  {
   "cell_type": "code",
   "execution_count": 7,
   "metadata": {},
   "outputs": [],
   "source": [
    "aDict = {\n",
    "    \"Name\": [\n",
    "            \"Braund, Mr. Owen Harris\",\n",
    "            \"Allen, Mr. William Henry\",\n",
    "            \"Bonnell, Miss. Elizabeth\"\n",
    "    ],\n",
    "    \"Age\": [22, 35, 58],\n",
    "    \"Sex\": [\"male\", \"male\", \"female\"]\n",
    "}"
   ]
  },
  {
   "cell_type": "code",
   "execution_count": 8,
   "metadata": {},
   "outputs": [],
   "source": [
    "df = pd.DataFrame(aDict)"
   ]
  },
  {
   "cell_type": "code",
   "execution_count": 10,
   "metadata": {},
   "outputs": [
    {
     "name": "stdout",
     "output_type": "stream",
     "text": [
      "                       Name  Age     Sex\n",
      "0   Braund, Mr. Owen Harris   22    male\n",
      "1  Allen, Mr. William Henry   35    male\n",
      "2  Bonnell, Miss. Elizabeth   58  female\n"
     ]
    }
   ],
   "source": [
    "print(df)"
   ]
  },
  {
   "cell_type": "markdown",
   "metadata": {},
   "source": [
    "### spreadsheet data\n",
    "- the above df can be represented in a spreadsheet software\n",
    "![SpreadSheet](./images/01_table_spreadsheet.png)"
   ]
  },
  {
   "cell_type": "code",
   "execution_count": 11,
   "metadata": {},
   "outputs": [
    {
     "data": {
      "text/plain": [
       "0    22\n",
       "1    35\n",
       "2    58\n",
       "Name: Age, dtype: int64"
      ]
     },
     "execution_count": 11,
     "metadata": {},
     "output_type": "execute_result"
    }
   ],
   "source": [
    "# just work with the data in column Age\n",
    "df[\"Age\"]"
   ]
  },
  {
   "cell_type": "code",
   "execution_count": 13,
   "metadata": {},
   "outputs": [
    {
     "name": "stdout",
     "output_type": "stream",
     "text": [
      "             Age\n",
      "count   3.000000\n",
      "mean   38.333333\n",
      "std    18.230012\n",
      "min    22.000000\n",
      "25%    28.500000\n",
      "50%    35.000000\n",
      "75%    46.500000\n",
      "max    58.000000\n"
     ]
    }
   ],
   "source": [
    "# do something with dataframe\n",
    "print(df.describe())"
   ]
  },
  {
   "cell_type": "code",
   "execution_count": 14,
   "metadata": {},
   "outputs": [
    {
     "name": "stdout",
     "output_type": "stream",
     "text": [
      "58\n"
     ]
    }
   ],
   "source": [
    "print(df['Age'].max())"
   ]
  },
  {
   "cell_type": "code",
   "execution_count": 17,
   "metadata": {},
   "outputs": [
    {
     "name": "stdout",
     "output_type": "stream",
     "text": [
      "                       Name  Age   Sex\n",
      "0   Braund, Mr. Owen Harris   22  male\n",
      "1  Allen, Mr. William Henry   35  male\n"
     ]
    }
   ],
   "source": [
    "# print first 2 rows\n",
    "print(df.head(2))"
   ]
  },
  {
   "cell_type": "code",
   "execution_count": 18,
   "metadata": {},
   "outputs": [
    {
     "name": "stdout",
     "output_type": "stream",
     "text": [
      "                       Name  Age     Sex\n",
      "1  Allen, Mr. William Henry   35    male\n",
      "2  Bonnell, Miss. Elizabeth   58  female\n"
     ]
    }
   ],
   "source": [
    "# print last 2 rows\n",
    "print(df.tail(2))"
   ]
  },
  {
   "cell_type": "code",
   "execution_count": 19,
   "metadata": {},
   "outputs": [
    {
     "data": {
      "text/plain": [
       "Name    object\n",
       "Age      int64\n",
       "Sex     object\n",
       "dtype: object"
      ]
     },
     "execution_count": 19,
     "metadata": {},
     "output_type": "execute_result"
    }
   ],
   "source": [
    "df.dtypes"
   ]
  },
  {
   "cell_type": "markdown",
   "metadata": {},
   "source": [
    "## Read and write tabular data\n",
    "\n",
    "![](./images/02_io_readwrite1.svg)\n",
    "\n",
    "### Titanic Data\n",
    "- https://github.com/pandas-dev/pandas/blob/master/doc/data/titanic.csv\n",
    "\n",
    "```\n",
    "PassengerId: Id of every passenger.\n",
    "\n",
    "Survived: This feature have value 0 and 1. 0 for not survived and 1 for survived.\n",
    "\n",
    "Pclass: There are 3 classes: Class 1, Class 2 and Class 3.\n",
    "\n",
    "Name: Name of passenger.\n",
    "\n",
    "Sex: Gender of passenger.\n",
    "\n",
    "Age: Age of passenger.\n",
    "\n",
    "SibSp: Indication that passenger have siblings and spouse.\n",
    "\n",
    "Parch: Whether a passenger is alone or have family.\n",
    "\n",
    "Ticket: Ticket number of passenger.\n",
    "\n",
    "Fare: Indicating the fare.\n",
    "\n",
    "Cabin: The cabin of passenger.\n",
    "\n",
    "Embarked: The embarked category.\n",
    "```\n",
    "- use pandas `.read_*(fileName)` to read data from various formats"
   ]
  },
  {
   "cell_type": "code",
   "execution_count": 21,
   "metadata": {},
   "outputs": [],
   "source": [
    "# let's read titanic.csv file\n",
    "titanicDf = pd.read_csv('data/titanic.csv')"
   ]
  },
  {
   "cell_type": "code",
   "execution_count": 23,
   "metadata": {},
   "outputs": [
    {
     "name": "stdout",
     "output_type": "stream",
     "text": [
      "     PassengerId  Survived  Pclass  \\\n",
      "0              1         0       3   \n",
      "1              2         1       1   \n",
      "2              3         1       3   \n",
      "3              4         1       1   \n",
      "4              5         0       3   \n",
      "..           ...       ...     ...   \n",
      "886          887         0       2   \n",
      "887          888         1       1   \n",
      "888          889         0       3   \n",
      "889          890         1       1   \n",
      "890          891         0       3   \n",
      "\n",
      "                                                  Name     Sex   Age  SibSp  \\\n",
      "0                              Braund, Mr. Owen Harris    male  22.0      1   \n",
      "1    Cumings, Mrs. John Bradley (Florence Briggs Th...  female  38.0      1   \n",
      "2                               Heikkinen, Miss. Laina  female  26.0      0   \n",
      "3         Futrelle, Mrs. Jacques Heath (Lily May Peel)  female  35.0      1   \n",
      "4                             Allen, Mr. William Henry    male  35.0      0   \n",
      "..                                                 ...     ...   ...    ...   \n",
      "886                              Montvila, Rev. Juozas    male  27.0      0   \n",
      "887                       Graham, Miss. Margaret Edith  female  19.0      0   \n",
      "888           Johnston, Miss. Catherine Helen \"Carrie\"  female   NaN      1   \n",
      "889                              Behr, Mr. Karl Howell    male  26.0      0   \n",
      "890                                Dooley, Mr. Patrick    male  32.0      0   \n",
      "\n",
      "     Parch            Ticket     Fare Cabin Embarked  \n",
      "0        0         A/5 21171   7.2500   NaN        S  \n",
      "1        0          PC 17599  71.2833   C85        C  \n",
      "2        0  STON/O2. 3101282   7.9250   NaN        S  \n",
      "3        0            113803  53.1000  C123        S  \n",
      "4        0            373450   8.0500   NaN        S  \n",
      "..     ...               ...      ...   ...      ...  \n",
      "886      0            211536  13.0000   NaN        S  \n",
      "887      0            112053  30.0000   B42        S  \n",
      "888      2        W./C. 6607  23.4500   NaN        S  \n",
      "889      0            111369  30.0000  C148        C  \n",
      "890      0            370376   7.7500   NaN        Q  \n",
      "\n",
      "[891 rows x 12 columns]\n"
     ]
    }
   ],
   "source": [
    "print(titanicDf)"
   ]
  },
  {
   "cell_type": "code",
   "execution_count": 24,
   "metadata": {},
   "outputs": [
    {
     "name": "stdout",
     "output_type": "stream",
     "text": [
      "   PassengerId  Survived  Pclass  \\\n",
      "0            1         0       3   \n",
      "1            2         1       1   \n",
      "2            3         1       3   \n",
      "3            4         1       1   \n",
      "4            5         0       3   \n",
      "5            6         0       3   \n",
      "6            7         0       1   \n",
      "7            8         0       3   \n",
      "\n",
      "                                                Name     Sex   Age  SibSp  \\\n",
      "0                            Braund, Mr. Owen Harris    male  22.0      1   \n",
      "1  Cumings, Mrs. John Bradley (Florence Briggs Th...  female  38.0      1   \n",
      "2                             Heikkinen, Miss. Laina  female  26.0      0   \n",
      "3       Futrelle, Mrs. Jacques Heath (Lily May Peel)  female  35.0      1   \n",
      "4                           Allen, Mr. William Henry    male  35.0      0   \n",
      "5                                   Moran, Mr. James    male   NaN      0   \n",
      "6                            McCarthy, Mr. Timothy J    male  54.0      0   \n",
      "7                     Palsson, Master. Gosta Leonard    male   2.0      3   \n",
      "\n",
      "   Parch            Ticket     Fare Cabin Embarked  \n",
      "0      0         A/5 21171   7.2500   NaN        S  \n",
      "1      0          PC 17599  71.2833   C85        C  \n",
      "2      0  STON/O2. 3101282   7.9250   NaN        S  \n",
      "3      0            113803  53.1000  C123        S  \n",
      "4      0            373450   8.0500   NaN        S  \n",
      "5      0            330877   8.4583   NaN        Q  \n",
      "6      0             17463  51.8625   E46        S  \n",
      "7      1            349909  21.0750   NaN        S  \n"
     ]
    }
   ],
   "source": [
    "# print first 8 rows\n",
    "print(titanicDf.head(8))"
   ]
  },
  {
   "cell_type": "code",
   "execution_count": 25,
   "metadata": {},
   "outputs": [
    {
     "data": {
      "text/plain": [
       "PassengerId      int64\n",
       "Survived         int64\n",
       "Pclass           int64\n",
       "Name            object\n",
       "Sex             object\n",
       "Age            float64\n",
       "SibSp            int64\n",
       "Parch            int64\n",
       "Ticket          object\n",
       "Fare           float64\n",
       "Cabin           object\n",
       "Embarked        object\n",
       "dtype: object"
      ]
     },
     "execution_count": 25,
     "metadata": {},
     "output_type": "execute_result"
    }
   ],
   "source": [
    "titanicDf.dtypes"
   ]
  },
  {
   "cell_type": "code",
   "execution_count": 27,
   "metadata": {},
   "outputs": [],
   "source": [
    "# write the DataFrame as Excel spreadsheet\n",
    "# need openpyxl library\n",
    "titanicDf.to_excel('data/titanic.xlsx', sheet_name='passengers')"
   ]
  },
  {
   "cell_type": "code",
   "execution_count": 28,
   "metadata": {},
   "outputs": [
    {
     "name": "stdout",
     "output_type": "stream",
     "text": [
      "<class 'pandas.core.frame.DataFrame'>\n",
      "RangeIndex: 891 entries, 0 to 890\n",
      "Data columns (total 12 columns):\n",
      " #   Column       Non-Null Count  Dtype  \n",
      "---  ------       --------------  -----  \n",
      " 0   PassengerId  891 non-null    int64  \n",
      " 1   Survived     891 non-null    int64  \n",
      " 2   Pclass       891 non-null    int64  \n",
      " 3   Name         891 non-null    object \n",
      " 4   Sex          891 non-null    object \n",
      " 5   Age          714 non-null    float64\n",
      " 6   SibSp        891 non-null    int64  \n",
      " 7   Parch        891 non-null    int64  \n",
      " 8   Ticket       891 non-null    object \n",
      " 9   Fare         891 non-null    float64\n",
      " 10  Cabin        204 non-null    object \n",
      " 11  Embarked     889 non-null    object \n",
      "dtypes: float64(2), int64(5), object(5)\n",
      "memory usage: 83.7+ KB\n"
     ]
    }
   ],
   "source": [
    "# technical summary of DataFrame\n",
    "titanicDf.info()"
   ]
  },
  {
   "cell_type": "markdown",
   "metadata": {},
   "source": [
    "## select a subset of a DataFrame\n",
    "\n",
    "![](./images/03_subset_columns.svg)"
   ]
  },
  {
   "cell_type": "code",
   "execution_count": 29,
   "metadata": {},
   "outputs": [],
   "source": [
    "# copy just the Age column or Series\n",
    "ages = titanicDf['Age']"
   ]
  },
  {
   "cell_type": "code",
   "execution_count": 30,
   "metadata": {},
   "outputs": [
    {
     "data": {
      "text/plain": [
       "pandas.core.series.Series"
      ]
     },
     "execution_count": 30,
     "metadata": {},
     "output_type": "execute_result"
    }
   ],
   "source": [
    "type(ages)"
   ]
  },
  {
   "cell_type": "code",
   "execution_count": 31,
   "metadata": {},
   "outputs": [
    {
     "data": {
      "text/plain": [
       "(891,)"
      ]
     },
     "execution_count": 31,
     "metadata": {},
     "output_type": "execute_result"
    }
   ],
   "source": [
    "ages.shape"
   ]
  },
  {
   "cell_type": "code",
   "execution_count": 32,
   "metadata": {},
   "outputs": [],
   "source": [
    "# get age and sex columns\n",
    "age_sex = titanicDf[['Age', 'Sex']]"
   ]
  },
  {
   "cell_type": "code",
   "execution_count": 34,
   "metadata": {},
   "outputs": [
    {
     "name": "stdout",
     "output_type": "stream",
     "text": [
      "    Age     Sex\n",
      "0  22.0    male\n",
      "1  38.0  female\n",
      "2  26.0  female\n",
      "3  35.0  female\n",
      "4  35.0    male\n"
     ]
    }
   ],
   "source": [
    "print(age_sex.head())"
   ]
  },
  {
   "cell_type": "code",
   "execution_count": 35,
   "metadata": {},
   "outputs": [
    {
     "data": {
      "text/plain": [
       "(891, 2)"
      ]
     },
     "execution_count": 35,
     "metadata": {},
     "output_type": "execute_result"
    }
   ],
   "source": [
    "age_sex.shape"
   ]
  },
  {
   "cell_type": "code",
   "execution_count": 36,
   "metadata": {},
   "outputs": [
    {
     "data": {
      "text/plain": [
       "0      False\n",
       "1       True\n",
       "2      False\n",
       "3      False\n",
       "4      False\n",
       "       ...  \n",
       "886    False\n",
       "887    False\n",
       "888    False\n",
       "889    False\n",
       "890    False\n",
       "Name: Age, Length: 891, dtype: bool"
      ]
     },
     "execution_count": 36,
     "metadata": {},
     "output_type": "execute_result"
    }
   ],
   "source": [
    "# passengers older than 35\n",
    "titanicDf['Age'] > 35"
   ]
  },
  {
   "cell_type": "code",
   "execution_count": 37,
   "metadata": {},
   "outputs": [],
   "source": [
    "# Create the Df with selection\n",
    "passengers = titanicDf[titanicDf['Age']>35]"
   ]
  },
  {
   "cell_type": "code",
   "execution_count": 40,
   "metadata": {},
   "outputs": [
    {
     "name": "stdout",
     "output_type": "stream",
     "text": [
      "<bound method NDFrame.describe of      PassengerId  Survived  Pclass  \\\n",
      "1              2         1       1   \n",
      "6              7         0       1   \n",
      "11            12         1       1   \n",
      "13            14         0       3   \n",
      "15            16         1       2   \n",
      "..           ...       ...     ...   \n",
      "865          866         1       2   \n",
      "871          872         1       1   \n",
      "873          874         0       3   \n",
      "879          880         1       1   \n",
      "885          886         0       3   \n",
      "\n",
      "                                                  Name     Sex   Age  SibSp  \\\n",
      "1    Cumings, Mrs. John Bradley (Florence Briggs Th...  female  38.0      1   \n",
      "6                              McCarthy, Mr. Timothy J    male  54.0      0   \n",
      "11                            Bonnell, Miss. Elizabeth  female  58.0      0   \n",
      "13                         Andersson, Mr. Anders Johan    male  39.0      1   \n",
      "15                    Hewlett, Mrs. (Mary D Kingcome)   female  55.0      0   \n",
      "..                                                 ...     ...   ...    ...   \n",
      "865                           Bystrom, Mrs. (Karolina)  female  42.0      0   \n",
      "871   Beckwith, Mrs. Richard Leonard (Sallie Monypeny)  female  47.0      1   \n",
      "873                        Vander Cruyssen, Mr. Victor    male  47.0      0   \n",
      "879      Potter, Mrs. Thomas Jr (Lily Alexenia Wilson)  female  56.0      0   \n",
      "885               Rice, Mrs. William (Margaret Norton)  female  39.0      0   \n",
      "\n",
      "     Parch    Ticket     Fare Cabin Embarked  \n",
      "1        0  PC 17599  71.2833   C85        C  \n",
      "6        0     17463  51.8625   E46        S  \n",
      "11       0    113783  26.5500  C103        S  \n",
      "13       5    347082  31.2750   NaN        S  \n",
      "15       0    248706  16.0000   NaN        S  \n",
      "..     ...       ...      ...   ...      ...  \n",
      "865      0    236852  13.0000   NaN        S  \n",
      "871      1     11751  52.5542   D35        S  \n",
      "873      0    345765   9.0000   NaN        S  \n",
      "879      1     11767  83.1583   C50        C  \n",
      "885      5    382652  29.1250   NaN        Q  \n",
      "\n",
      "[217 rows x 12 columns]>\n"
     ]
    }
   ],
   "source": [
    "print(passengers.describe)"
   ]
  },
  {
   "cell_type": "code",
   "execution_count": 43,
   "metadata": {},
   "outputs": [],
   "source": [
    "# another example of selection\n",
    "class_23 = titanicDf[titanicDf[\"Pclass\"].isin([2, 3])]"
   ]
  },
  {
   "cell_type": "code",
   "execution_count": 45,
   "metadata": {},
   "outputs": [
    {
     "name": "stdout",
     "output_type": "stream",
     "text": [
      "   PassengerId  Survived  Pclass                            Name     Sex  \\\n",
      "0            1         0       3         Braund, Mr. Owen Harris    male   \n",
      "2            3         1       3          Heikkinen, Miss. Laina  female   \n",
      "4            5         0       3        Allen, Mr. William Henry    male   \n",
      "5            6         0       3                Moran, Mr. James    male   \n",
      "7            8         0       3  Palsson, Master. Gosta Leonard    male   \n",
      "\n",
      "    Age  SibSp  Parch            Ticket     Fare Cabin Embarked  \n",
      "0  22.0      1      0         A/5 21171   7.2500   NaN        S  \n",
      "2  26.0      0      0  STON/O2. 3101282   7.9250   NaN        S  \n",
      "4  35.0      0      0            373450   8.0500   NaN        S  \n",
      "5   NaN      0      0            330877   8.4583   NaN        Q  \n",
      "7   2.0      3      1            349909  21.0750   NaN        S  \n"
     ]
    }
   ],
   "source": [
    "print(class_23.head())"
   ]
  },
  {
   "cell_type": "code",
   "execution_count": 47,
   "metadata": {},
   "outputs": [],
   "source": [
    "# select data where age is known\n",
    "age_no_na = titanicDf[titanicDf['Age'].notna()]"
   ]
  },
  {
   "cell_type": "code",
   "execution_count": 49,
   "metadata": {},
   "outputs": [
    {
     "name": "stdout",
     "output_type": "stream",
     "text": [
      "   PassengerId  Survived  Pclass  \\\n",
      "0            1         0       3   \n",
      "1            2         1       1   \n",
      "2            3         1       3   \n",
      "3            4         1       1   \n",
      "4            5         0       3   \n",
      "\n",
      "                                                Name     Sex   Age  SibSp  \\\n",
      "0                            Braund, Mr. Owen Harris    male  22.0      1   \n",
      "1  Cumings, Mrs. John Bradley (Florence Briggs Th...  female  38.0      1   \n",
      "2                             Heikkinen, Miss. Laina  female  26.0      0   \n",
      "3       Futrelle, Mrs. Jacques Heath (Lily May Peel)  female  35.0      1   \n",
      "4                           Allen, Mr. William Henry    male  35.0      0   \n",
      "\n",
      "   Parch            Ticket     Fare Cabin Embarked  \n",
      "0      0         A/5 21171   7.2500   NaN        S  \n",
      "1      0          PC 17599  71.2833   C85        C  \n",
      "2      0  STON/O2. 3101282   7.9250   NaN        S  \n",
      "3      0            113803  53.1000  C123        S  \n",
      "4      0            373450   8.0500   NaN        S  \n"
     ]
    }
   ],
   "source": [
    "print(age_no_na.head())"
   ]
  },
  {
   "cell_type": "code",
   "execution_count": 50,
   "metadata": {},
   "outputs": [
    {
     "data": {
      "text/plain": [
       "(714, 12)"
      ]
     },
     "execution_count": 50,
     "metadata": {},
     "output_type": "execute_result"
    }
   ],
   "source": [
    "age_no_na.shape"
   ]
  },
  {
   "cell_type": "code",
   "execution_count": 53,
   "metadata": {},
   "outputs": [],
   "source": [
    "# select passengers names older than 35 years\n",
    "adult_names = titanicDf.loc[titanicDf['Age'] > 35, 'Name']"
   ]
  },
  {
   "cell_type": "code",
   "execution_count": 54,
   "metadata": {},
   "outputs": [
    {
     "data": {
      "text/plain": [
       "1     Cumings, Mrs. John Bradley (Florence Briggs Th...\n",
       "6                               McCarthy, Mr. Timothy J\n",
       "11                             Bonnell, Miss. Elizabeth\n",
       "13                          Andersson, Mr. Anders Johan\n",
       "15                     Hewlett, Mrs. (Mary D Kingcome) \n",
       "Name: Name, dtype: object"
      ]
     },
     "execution_count": 54,
     "metadata": {},
     "output_type": "execute_result"
    }
   ],
   "source": [
    "adult_names.head()"
   ]
  },
  {
   "cell_type": "code",
   "execution_count": 56,
   "metadata": {},
   "outputs": [
    {
     "name": "stdout",
     "output_type": "stream",
     "text": [
      "    Pclass                                               Name     Sex\n",
      "9        2                Nasser, Mrs. Nicholas (Adele Achem)  female\n",
      "10       3                    Sandstrom, Miss. Marguerite Rut  female\n",
      "11       1                           Bonnell, Miss. Elizabeth  female\n",
      "12       3                     Saundercock, Mr. William Henry    male\n",
      "13       3                        Andersson, Mr. Anders Johan    male\n",
      "14       3               Vestrom, Miss. Hulda Amanda Adolfina  female\n",
      "15       2                   Hewlett, Mrs. (Mary D Kingcome)   female\n",
      "16       3                               Rice, Master. Eugene    male\n",
      "17       2                       Williams, Mr. Charles Eugene    male\n",
      "18       3  Vander Planke, Mrs. Julius (Emelia Maria Vande...  female\n",
      "19       3                            Masselmani, Mrs. Fatima  female\n",
      "20       2                               Fynney, Mr. Joseph J    male\n",
      "21       2                              Beesley, Mr. Lawrence    male\n",
      "22       3                        McGowan, Miss. Anna \"Annie\"  female\n",
      "23       1                       Sloper, Mr. William Thompson    male\n",
      "24       3                      Palsson, Miss. Torborg Danira  female\n"
     ]
    }
   ],
   "source": [
    "# select rows 10-25 and columns 3-5\n",
    "print(titanicDf.iloc[9:25, 2:5])"
   ]
  },
  {
   "cell_type": "markdown",
   "metadata": {},
   "source": [
    "## updating selected elements with iloc\n",
    "- update first 3 names to \"anonymous\""
   ]
  },
  {
   "cell_type": "code",
   "execution_count": 57,
   "metadata": {},
   "outputs": [],
   "source": [
    "titanicDf.iloc[0:3, 3] = \"anonymous\""
   ]
  },
  {
   "cell_type": "code",
   "execution_count": 58,
   "metadata": {},
   "outputs": [
    {
     "data": {
      "text/plain": [
       "0                                       anonymous\n",
       "1                                       anonymous\n",
       "2                                       anonymous\n",
       "3    Futrelle, Mrs. Jacques Heath (Lily May Peel)\n",
       "4                        Allen, Mr. William Henry\n",
       "Name: Name, dtype: object"
      ]
     },
     "execution_count": 58,
     "metadata": {},
     "output_type": "execute_result"
    }
   ],
   "source": [
    "titanicDf.head()['Name']"
   ]
  },
  {
   "cell_type": "markdown",
   "metadata": {},
   "source": [
    "## creating new columns derived from existing columns\n",
    "\n",
    "![](./images/05_newcolumn_1.svg)"
   ]
  },
  {
   "cell_type": "markdown",
   "metadata": {},
   "source": [
    "## OpenAQ API\n",
    "- http://dhhagan.github.io/py-openaq/tutorial/api.html#openaq-api\n",
    "https://py-openaq.readthedocs.io/en/latest/\n",
    "\n",
    "```bash\n",
    "pip install py-openaq\n",
    "```\n",
    "\n",
    "### Let's use air quality data provided by OpenAQ API"
   ]
  },
  {
   "cell_type": "code",
   "execution_count": 60,
   "metadata": {},
   "outputs": [],
   "source": [
    "import openaq"
   ]
  },
  {
   "cell_type": "code",
   "execution_count": 62,
   "metadata": {},
   "outputs": [],
   "source": [
    "api = openaq.OpenAQ()"
   ]
  },
  {
   "cell_type": "code",
   "execution_count": 63,
   "metadata": {},
   "outputs": [
    {
     "name": "stderr",
     "output_type": "stream",
     "text": [
      "/Users/rbasnet/miniconda3/envs/ml/lib/python3.7/site-packages/openaq/decorators.py:57: FutureWarning: pandas.io.json.json_normalize is deprecated, use pandas.json_normalize instead\n",
      "  data = pd.io.json.json_normalize(resp)\n"
     ]
    }
   ],
   "source": [
    "pollutionDF = api.cities(df=True, limit=1000)"
   ]
  },
  {
   "cell_type": "code",
   "execution_count": 64,
   "metadata": {},
   "outputs": [
    {
     "name": "stdout",
     "output_type": "stream",
     "text": [
      "<class 'pandas.core.frame.DataFrame'>\n",
      "RangeIndex: 1000 entries, 0 to 999\n",
      "Data columns (total 5 columns):\n",
      " #   Column     Non-Null Count  Dtype \n",
      "---  ------     --------------  ----- \n",
      " 0   country    1000 non-null   object\n",
      " 1   name       1000 non-null   object\n",
      " 2   city       1000 non-null   object\n",
      " 3   count      1000 non-null   int64 \n",
      " 4   locations  1000 non-null   int64 \n",
      "dtypes: int64(2), object(3)\n",
      "memory usage: 39.2+ KB\n"
     ]
    }
   ],
   "source": [
    "pollutionDF.info()"
   ]
  },
  {
   "cell_type": "code",
   "execution_count": 65,
   "metadata": {},
   "outputs": [
    {
     "name": "stdout",
     "output_type": "stream",
     "text": [
      "  country                name                city   count  locations\n",
      "0      AD  Escaldes-Engordany  Escaldes-Engordany  204662          2\n",
      "1      AD              unused              unused   16301          1\n",
      "2      AE           Abu Dhabi           Abu Dhabi  436140          1\n",
      "3      AE               Dubai               Dubai  433111          1\n",
      "4      AE                 N/A                 N/A   48205          2\n"
     ]
    }
   ],
   "source": [
    "print(pollutionDF.head())"
   ]
  },
  {
   "cell_type": "code",
   "execution_count": 68,
   "metadata": {},
   "outputs": [],
   "source": [
    "pollutionDF['pollution_per100'] = pollutionDF['count']/100"
   ]
  },
  {
   "cell_type": "code",
   "execution_count": 71,
   "metadata": {},
   "outputs": [
    {
     "name": "stdout",
     "output_type": "stream",
     "text": [
      "  country                name                city   count  locations  \\\n",
      "0      AD  Escaldes-Engordany  Escaldes-Engordany  204662          2   \n",
      "1      AD              unused              unused   16301          1   \n",
      "2      AE           Abu Dhabi           Abu Dhabi  436140          1   \n",
      "3      AE               Dubai               Dubai  433111          1   \n",
      "4      AE                 N/A                 N/A   48205          2   \n",
      "\n",
      "   pollution_per100  \n",
      "0           2046.62  \n",
      "1            163.01  \n",
      "2           4361.40  \n",
      "3           4331.11  \n",
      "4            482.05  \n"
     ]
    }
   ],
   "source": [
    "print(pollutionDF.head())"
   ]
  },
  {
   "cell_type": "code",
   "execution_count": 76,
   "metadata": {},
   "outputs": [],
   "source": [
    "# rename column headers\n",
    "renamedDF = pollutionDF.rename(\n",
    "    columns={\n",
    "        'country': 'C_Code',\n",
    "        'name' : 'C_Name',\n",
    "    }\n",
    ")"
   ]
  },
  {
   "cell_type": "code",
   "execution_count": 75,
   "metadata": {},
   "outputs": [
    {
     "data": {
      "text/plain": [
       "Index(['country', 'name', 'city', 'count', 'locations', 'pollution_per100'], dtype='object')"
      ]
     },
     "execution_count": 75,
     "metadata": {},
     "output_type": "execute_result"
    }
   ],
   "source": [
    "# see all the column names\n",
    "pollutionDF.columns"
   ]
  },
  {
   "cell_type": "code",
   "execution_count": 77,
   "metadata": {},
   "outputs": [
    {
     "data": {
      "text/plain": [
       "Index(['C_Code', 'C_Name', 'city', 'count', 'locations', 'pollution_per100'], dtype='object')"
      ]
     },
     "execution_count": 77,
     "metadata": {},
     "output_type": "execute_result"
    }
   ],
   "source": [
    "renamedDF.columns"
   ]
  },
  {
   "cell_type": "code",
   "execution_count": 79,
   "metadata": {},
   "outputs": [
    {
     "name": "stdout",
     "output_type": "stream",
     "text": [
      "  C_Code              C_Name                city   count  locations  \\\n",
      "0     AD  Escaldes-Engordany  Escaldes-Engordany  204662          2   \n",
      "1     AD              unused              unused   16301          1   \n",
      "2     AE           Abu Dhabi           Abu Dhabi  436140          1   \n",
      "3     AE               Dubai               Dubai  433111          1   \n",
      "4     AE                 N/A                 N/A   48205          2   \n",
      "\n",
      "   pollution_per100  \n",
      "0           2046.62  \n",
      "1            163.01  \n",
      "2           4361.40  \n",
      "3           4331.11  \n",
      "4            482.05  \n"
     ]
    }
   ],
   "source": [
    "print(renamedDF.head())"
   ]
  },
  {
   "cell_type": "markdown",
   "metadata": {},
   "source": [
    "## Combine data from multiple tables\n",
    "- `pd.concat()` performs concatenatoins operations of multiple tables along one of the axis (row-wise or column-wise)\n",
    "- typically row-wise concatenation is a common operation\n",
    "\n",
    "![](./images/08_concat_row1.svg)"
   ]
  },
  {
   "cell_type": "code",
   "execution_count": 80,
   "metadata": {},
   "outputs": [],
   "source": [
    "# make a deep copy of dataframe/table\n",
    "renamedDF1 = renamedDF.copy(deep=True)"
   ]
  },
  {
   "cell_type": "code",
   "execution_count": 82,
   "metadata": {},
   "outputs": [
    {
     "name": "stdout",
     "output_type": "stream",
     "text": [
      "<class 'pandas.core.frame.DataFrame'>\n",
      "RangeIndex: 1000 entries, 0 to 999\n",
      "Data columns (total 6 columns):\n",
      " #   Column            Non-Null Count  Dtype  \n",
      "---  ------            --------------  -----  \n",
      " 0   C_Code            1000 non-null   object \n",
      " 1   C_Name            1000 non-null   object \n",
      " 2   city              1000 non-null   object \n",
      " 3   count             1000 non-null   int64  \n",
      " 4   locations         1000 non-null   int64  \n",
      " 5   pollution_per100  1000 non-null   float64\n",
      "dtypes: float64(1), int64(2), object(3)\n",
      "memory usage: 47.0+ KB\n",
      "None\n"
     ]
    }
   ],
   "source": [
    "print(renamedDF1.info())"
   ]
  },
  {
   "cell_type": "code",
   "execution_count": 83,
   "metadata": {},
   "outputs": [],
   "source": [
    "# let's concatenate the two into a single table\n",
    "combinedDF = pd.concat([renamedDF, renamedDF1], axis=0)"
   ]
  },
  {
   "cell_type": "code",
   "execution_count": 84,
   "metadata": {},
   "outputs": [
    {
     "name": "stdout",
     "output_type": "stream",
     "text": [
      "<class 'pandas.core.frame.DataFrame'>\n",
      "Int64Index: 2000 entries, 0 to 999\n",
      "Data columns (total 6 columns):\n",
      " #   Column            Non-Null Count  Dtype  \n",
      "---  ------            --------------  -----  \n",
      " 0   C_Code            2000 non-null   object \n",
      " 1   C_Name            2000 non-null   object \n",
      " 2   city              2000 non-null   object \n",
      " 3   count             2000 non-null   int64  \n",
      " 4   locations         2000 non-null   int64  \n",
      " 5   pollution_per100  2000 non-null   float64\n",
      "dtypes: float64(1), int64(2), object(3)\n",
      "memory usage: 109.4+ KB\n"
     ]
    }
   ],
   "source": [
    "combinedDF.info()"
   ]
  },
  {
   "cell_type": "markdown",
   "metadata": {},
   "source": [
    "## join tables using a common identifier\n",
    "- merge tables column-wise; a left-join\n",
    "\n",
    "![](./images/08_merge_left.svg)"
   ]
  },
  {
   "cell_type": "code",
   "execution_count": 104,
   "metadata": {},
   "outputs": [],
   "source": [
    "no2_url = 'https://raw.githubusercontent.com/pandas-dev/pandas/master/doc/data/air_quality_no2_long.csv'\n",
    "pm2_url = 'https://raw.githubusercontent.com/pandas-dev/pandas/master/doc/data/air_quality_pm25_long.csv'\n",
    "air_quality_stations_url = 'https://raw.githubusercontent.com/pandas-dev/pandas/master/doc/data/air_quality_stations.csv'\n",
    "air_qual_parameters_url = 'https://raw.githubusercontent.com/pandas-dev/pandas/master/doc/data/air_quality_parameters.csv'"
   ]
  },
  {
   "cell_type": "code",
   "execution_count": 86,
   "metadata": {},
   "outputs": [],
   "source": [
    "air_quality_no2 = pd.read_csv(no2_url)"
   ]
  },
  {
   "cell_type": "code",
   "execution_count": 88,
   "metadata": {},
   "outputs": [
    {
     "name": "stdout",
     "output_type": "stream",
     "text": [
      "    city country                   date.utc location parameter  value   unit\n",
      "0  Paris      FR  2019-06-21 00:00:00+00:00  FR04014       no2   20.0  µg/m³\n",
      "1  Paris      FR  2019-06-20 23:00:00+00:00  FR04014       no2   21.8  µg/m³\n",
      "2  Paris      FR  2019-06-20 22:00:00+00:00  FR04014       no2   26.5  µg/m³\n",
      "3  Paris      FR  2019-06-20 21:00:00+00:00  FR04014       no2   24.9  µg/m³\n",
      "4  Paris      FR  2019-06-20 20:00:00+00:00  FR04014       no2   21.4  µg/m³\n"
     ]
    }
   ],
   "source": [
    "print(air_quality_no2.head())"
   ]
  },
  {
   "cell_type": "code",
   "execution_count": 94,
   "metadata": {},
   "outputs": [],
   "source": [
    "air_quality_parameters = pd.read_csv(air_qual_parameters_url)"
   ]
  },
  {
   "cell_type": "code",
   "execution_count": 95,
   "metadata": {},
   "outputs": [
    {
     "name": "stdout",
     "output_type": "stream",
     "text": [
      "     id                                        description  name\n",
      "0    bc                                       Black Carbon    BC\n",
      "1    co                                    Carbon Monoxide    CO\n",
      "2   no2                                   Nitrogen Dioxide   NO2\n",
      "3    o3                                              Ozone    O3\n",
      "4  pm10  Particulate matter less than 10 micrometers in...  PM10\n"
     ]
    }
   ],
   "source": [
    "print(air_quality_parameters.head())"
   ]
  },
  {
   "cell_type": "code",
   "execution_count": 98,
   "metadata": {},
   "outputs": [],
   "source": [
    "# column parameter in no2 table and id in parameters are common\n",
    "air_quality = pd.merge(air_quality_no2, air_quality_parameters, how='left', left_on='parameter', right_on='id')"
   ]
  },
  {
   "cell_type": "code",
   "execution_count": 103,
   "metadata": {},
   "outputs": [
    {
     "name": "stdout",
     "output_type": "stream",
     "text": [
      "    city country                   date.utc location parameter  value   unit  \\\n",
      "0  Paris      FR  2019-06-21 00:00:00+00:00  FR04014       no2   20.0  µg/m³   \n",
      "1  Paris      FR  2019-06-20 23:00:00+00:00  FR04014       no2   21.8  µg/m³   \n",
      "2  Paris      FR  2019-06-20 22:00:00+00:00  FR04014       no2   26.5  µg/m³   \n",
      "3  Paris      FR  2019-06-20 21:00:00+00:00  FR04014       no2   24.9  µg/m³   \n",
      "4  Paris      FR  2019-06-20 20:00:00+00:00  FR04014       no2   21.4  µg/m³   \n",
      "5  Paris      FR  2019-06-20 19:00:00+00:00  FR04014       no2   25.3  µg/m³   \n",
      "6  Paris      FR  2019-06-20 18:00:00+00:00  FR04014       no2   23.9  µg/m³   \n",
      "7  Paris      FR  2019-06-20 17:00:00+00:00  FR04014       no2   23.2  µg/m³   \n",
      "8  Paris      FR  2019-06-20 16:00:00+00:00  FR04014       no2   19.0  µg/m³   \n",
      "9  Paris      FR  2019-06-20 15:00:00+00:00  FR04014       no2   19.3  µg/m³   \n",
      "\n",
      "    id       description name  \n",
      "0  no2  Nitrogen Dioxide  NO2  \n",
      "1  no2  Nitrogen Dioxide  NO2  \n",
      "2  no2  Nitrogen Dioxide  NO2  \n",
      "3  no2  Nitrogen Dioxide  NO2  \n",
      "4  no2  Nitrogen Dioxide  NO2  \n",
      "5  no2  Nitrogen Dioxide  NO2  \n",
      "6  no2  Nitrogen Dioxide  NO2  \n",
      "7  no2  Nitrogen Dioxide  NO2  \n",
      "8  no2  Nitrogen Dioxide  NO2  \n",
      "9  no2  Nitrogen Dioxide  NO2  \n"
     ]
    }
   ],
   "source": [
    "print(air_quality.head(10))"
   ]
  },
  {
   "cell_type": "code",
   "execution_count": 102,
   "metadata": {},
   "outputs": [
    {
     "name": "stdout",
     "output_type": "stream",
     "text": [
      "        city country                   date.utc            location parameter  \\\n",
      "2058  London      GB  2019-05-07 11:00:00+00:00  London Westminster       no2   \n",
      "2059  London      GB  2019-05-07 10:00:00+00:00  London Westminster       no2   \n",
      "2060  London      GB  2019-05-07 09:00:00+00:00  London Westminster       no2   \n",
      "2061  London      GB  2019-05-07 08:00:00+00:00  London Westminster       no2   \n",
      "2062  London      GB  2019-05-07 07:00:00+00:00  London Westminster       no2   \n",
      "2063  London      GB  2019-05-07 06:00:00+00:00  London Westminster       no2   \n",
      "2064  London      GB  2019-05-07 04:00:00+00:00  London Westminster       no2   \n",
      "2065  London      GB  2019-05-07 03:00:00+00:00  London Westminster       no2   \n",
      "2066  London      GB  2019-05-07 02:00:00+00:00  London Westminster       no2   \n",
      "2067  London      GB  2019-05-07 01:00:00+00:00  London Westminster       no2   \n",
      "\n",
      "      value   unit   id       description name  \n",
      "2058   21.0  µg/m³  no2  Nitrogen Dioxide  NO2  \n",
      "2059   21.0  µg/m³  no2  Nitrogen Dioxide  NO2  \n",
      "2060   28.0  µg/m³  no2  Nitrogen Dioxide  NO2  \n",
      "2061   32.0  µg/m³  no2  Nitrogen Dioxide  NO2  \n",
      "2062   32.0  µg/m³  no2  Nitrogen Dioxide  NO2  \n",
      "2063   26.0  µg/m³  no2  Nitrogen Dioxide  NO2  \n",
      "2064   16.0  µg/m³  no2  Nitrogen Dioxide  NO2  \n",
      "2065   19.0  µg/m³  no2  Nitrogen Dioxide  NO2  \n",
      "2066   19.0  µg/m³  no2  Nitrogen Dioxide  NO2  \n",
      "2067   23.0  µg/m³  no2  Nitrogen Dioxide  NO2  \n"
     ]
    }
   ],
   "source": [
    "print(air_quality.tail(10))"
   ]
  },
  {
   "cell_type": "code",
   "execution_count": null,
   "metadata": {},
   "outputs": [],
   "source": []
  }
 ],
 "metadata": {
  "kernelspec": {
   "display_name": "Python 3",
   "language": "python",
   "name": "python3"
  },
  "language_info": {
   "codemirror_mode": {
    "name": "ipython",
    "version": 3
   },
   "file_extension": ".py",
   "mimetype": "text/x-python",
   "name": "python",
   "nbconvert_exporter": "python",
   "pygments_lexer": "ipython3",
   "version": "3.7.9"
  }
 },
 "nbformat": 4,
 "nbformat_minor": 4
}
