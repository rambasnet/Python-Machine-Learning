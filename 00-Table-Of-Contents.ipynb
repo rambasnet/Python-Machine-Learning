{
 "cells": [
  {
   "cell_type": "markdown",
   "metadata": {},
   "source": [
    "# Table of Contents\n",
    "\n",
    "- **1. [Introduction](./ch01/ch01.ipynb)**\n",
    "- **2. [NumPy Intro](./NumPy-Intro.ipynb)**\n",
    "- **3. [Pandas Intro](./Pandas-Intro.ipynb)**\n",
    "- **4. [Data Visualization](./Data-Visualization.ipynb)**\n",
    "- **5. [Classification with Scikit-Learn](./Classification.ipynb)**\n",
    "- **6. [Model Comparison and Selection](./ModelSelection.ipynb)**\n",
    "- **7. [Feature Engineering](./FeatureEngineering.ipynb)**\n",
    "- **8. [Regression Analysis](./Regression.ipynb)**\n",
    "- **9. [Sentiment Analysis](./SentimentAnalysis.ipnb)**\n",
    "- **10. [Model Deployment](./ModelDeployment.ipynb)**\n",
    "- **11. [Artificial Neural Network](./ArtificialNeuralNetwork.ipynb)**"
   ]
  },
  {
   "cell_type": "code",
   "execution_count": null,
   "metadata": {},
   "outputs": [],
   "source": []
  }
 ],
 "metadata": {
  "kernelspec": {
   "display_name": "Python 3",
   "language": "python",
   "name": "python3"
  },
  "language_info": {
   "codemirror_mode": {
    "name": "ipython",
    "version": 3
   },
   "file_extension": ".py",
   "mimetype": "text/x-python",
   "name": "python",
   "nbconvert_exporter": "python",
   "pygments_lexer": "ipython3",
   "version": "3.7.9"
  }
 },
 "nbformat": 4,
 "nbformat_minor": 4
}
